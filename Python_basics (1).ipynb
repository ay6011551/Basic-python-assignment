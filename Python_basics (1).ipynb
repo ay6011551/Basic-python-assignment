{
  "nbformat": 4,
  "nbformat_minor": 0,
  "metadata": {
    "colab": {
      "provenance": []
    },
    "kernelspec": {
      "name": "python3",
      "display_name": "Python 3"
    },
    "language_info": {
      "name": "python"
    }
  },
  "cells": [
    {
      "cell_type": "markdown",
      "source": [
        "# Python Basics Questions"
      ],
      "metadata": {
        "id": "IKsEdOMX8UM2"
      }
    },
    {
      "cell_type": "markdown",
      "source": [
        "1.\t**What is Python, and why is it popular?**\n",
        "\n",
        "-> Python is a high-level programming language that is easy to learn and use. It was created by Guido van Rossum and first released in 1991. Python is known for its simple, readable syntax, which makes it a great language for beginners. Unlike some other programming languages, Python doesn’t use complicated rules or symbols, so it's easier to understand and write.\n",
        "\n",
        "  **Python is popular for several reasons:**\n",
        "\n",
        "1.   **Easy to learn:** Python's syntax is simple, which makes it beginner-friendly. You can write programs quickly and focus more on learning concepts than on learning the language itself.\n",
        "\n",
        "2.   **Versatile:** Python can be used for many different types of projects like web development, data analysis, artificial intelligence, automation, and even game development.\n",
        "\n",
        "3. **Large Community:** There are many resources available to learn Python, including tutorials, forums, and books. The Python community is very helpful to beginners.\n",
        "\n",
        "4. **Libraries and Frameworks:** Python has many pre-built libraries and frameworks that make it easier to do tasks like web development (Django, Flask), data science (Pandas, NumPy), and machine learning (TensorFlow, scikit-learn).\n",
        "\n",
        "5. **Cross-platform:** Python can run on various platforms like Windows, macOS, and Linux, making it flexible for different types of users and projects.\n",
        "\n",
        "\n",
        "\n",
        "\n",
        "\n",
        "\n",
        "\n",
        "\n",
        "\n",
        "\n",
        "\n",
        "\n"
      ],
      "metadata": {
        "id": "2yGgeKDU8a2u"
      }
    },
    {
      "cell_type": "markdown",
      "source": [
        "2. **What is an interpreter in Python**\n",
        "\n",
        "->  An interpreter in Python is a program that reads and runs your Python code, line by line. It translates the code into a language that the computer can understand and executes it right away. This makes Python easy to use because you can see the results instantly, but it can be slower than some other languages that use compilers.\n",
        "\n",
        "\n"
      ],
      "metadata": {
        "id": "S2-huRLV_GqJ"
      }
    },
    {
      "cell_type": "markdown",
      "source": [
        "3. **What are pre-defined keywords in Python?**\n",
        "-> Pre-defined keywords in Python are special words that have a specific meaning and purpose in the language. These keywords are reserved, meaning you cannot use them as names for variables, functions, or classes.\n",
        "\n",
        "Examples of Python keywords include:\n",
        "\n",
        "1. **if:** Used to make decisions.\n",
        "2. **for:** Used to create loops.\n",
        "3. **while:** Used for loops that repeat until a condition is false.\n",
        "4. **def:** Used to define a function.\n",
        "5. **class:** Used to define a class.\n",
        "6. **import:** Used to bring in external libraries or modules.\n",
        "\n",
        "There are 35 keywords in Python, and they are part of the language's syntax. These keywords help Python understand how to interpret your code."
      ],
      "metadata": {
        "id": "CipC-XTXAaIf"
      }
    },
    {
      "cell_type": "markdown",
      "source": [
        " 4.\t**Can keywords be used as variable names?**\n",
        "\n",
        " -> **No**, keywords cannot be used as variable names in Python. They are reserved by the language for specific purposes (like control flow, defining functions, etc.), so using them as variable names would cause a syntax error. For example, you cannot use if, class, or return as variable names.\n"
      ],
      "metadata": {
        "id": "RV6WRIDqBSdL"
      }
    },
    {
      "cell_type": "markdown",
      "source": [
        " 5.\t**What is mutability in Python?**\n",
        "\n",
        "->     Mutability in Python refers to whether an object can be changed after it is created. Some objects in Python are mutable, meaning their values can be modified, There are one more categary called immutable objects which can not change after creation.\n",
        "\n",
        "Mutable objects can be changed or updated after they are created. Common mutable objects in Python include lists, dictionaries, and sets.\n",
        "\n",
        "\n",
        "\n"
      ],
      "metadata": {
        "id": "Cbiz_dnKBkvg"
      }
    },
    {
      "cell_type": "markdown",
      "source": [
        "6.\t**Why are lists mutable, but tuples are immutable?**\n",
        "\n",
        "-> In Python, lists are **mutable**, means their contents can be changed (like adding, removing, or modifying elements).  And Tuples are immutable, means once they are created, their contents cannot be changed.\n",
        "\n",
        "\n",
        "*   **Why are Lists Mutable?**\n",
        "\n",
        "Lists are mutable because they are intended for dynamic, changing data, making them ideal for situations where elements need to be modified.\n",
        "\n",
        "\n",
        "\n",
        "*   **Why are Tuples Immutable?**\n",
        "\n",
        "Tuples are immutable to provide data integrity, memory efficiency, and performance benefits, especially when the data should remain constant, or when tuples are used as dictionary keys or set elements.\n",
        "\n"
      ],
      "metadata": {
        "id": "OYS6RDDfDwbA"
      }
    },
    {
      "cell_type": "markdown",
      "source": [
        "7. **What is the difference between “==” and “is” operators in Python**\n",
        "\n",
        "\n",
        "1. **\"==\" (Equality Operator):**\n",
        "\n",
        "\n",
        "*   The == operator is used to compare the values of two objects to see if they are equal.\n",
        "*   It checks if the contents or data of the objects are the same, regardless of whether the objects themselves are the same in memory.\n",
        "*   == checks if two objects have the same value.\n",
        "\n",
        "2.  **is (Identity Operator):**\n",
        "\n",
        "\n",
        "\n",
        "*  The is operator is used to check if two variables refer to the same object in memory.\n",
        "\n",
        "*   It checks if the memory locations of the objects are the same, not if their values are the same.\n",
        "*   Use is when you want to compare if two variables refer to the same object in memory.\n",
        "\n",
        "\n",
        "\n",
        "\n"
      ],
      "metadata": {
        "id": "Pd8XXMAmIMvW"
      }
    },
    {
      "cell_type": "markdown",
      "source": [
        "8. \t**What are logical operators in Python?**\n",
        "\n",
        "->  In Python, logical operators are used to combine multiple conditions and get a result that is either True or False. There are three main logical operators:\n",
        "\n",
        "\n",
        "\n",
        "1.   **AND** **:**\n",
        "\n",
        "*   The and operator checks if both conditions are true.\n",
        "*   It only gives True if both conditions are true. If either is false, the result is False.\n",
        "\n",
        "\n",
        "2.  **OR:**\n",
        "\n",
        "*   The or operator checks if at least one condition is true.\n",
        "*   It gives True if either of the conditions is true. If both are false, the result will be False.\n",
        "\n",
        "3.  **NOT:**\n",
        "\n",
        "\n",
        "\n",
        "*   The not operator reverses the result of a condition.\n",
        "*   If the condition is True, not operator makes it False, and if the condition is False, not operator makes it True.\n",
        "\n",
        "\n",
        "\n"
      ],
      "metadata": {
        "id": "vGw3kgR5L-0O"
      }
    },
    {
      "cell_type": "markdown",
      "source": [
        "9. **What is type casting in Python ?**\n",
        "\n",
        "->  Type casting in Python is the process of converting one data type into another. It allows you to change the type of a value, like converting a string to an integer or a float to an integer, to perform specific operations. There are two types of type casting:\n",
        "\n",
        "\n",
        "*   Implicit Casting\n",
        "*   Explicit Casting\n",
        "\n",
        "\n"
      ],
      "metadata": {
        "id": "JmjcT5qCN91x"
      }
    },
    {
      "cell_type": "markdown",
      "source": [
        "10. **What is the difference between implicit and explicit type casting?**\n",
        "\n",
        "->\n",
        "* **Implicit type casting** is when Python automatically converts one data type to another (like from int to float) when it is safe and logical,\n",
        "* while **explicit type casting** requires the programmer to manually convert a data type to another using functions like int(), float(), or str(), typically when Python cannot do it automatically or when a specific conversion is needed."
      ],
      "metadata": {
        "id": "zECIdHiFUoX8"
      }
    },
    {
      "cell_type": "markdown",
      "source": [
        "11.  **What is the purpose of conditional statements in Python?**\n",
        "\n",
        "-> The purpose of conditional statements in Python is to allow the program to execute specific code based on whether a condition is True or False, enabling decision-making, controlling the flow of the program, and allowing the program to react differently to different inputs or situations, such as using if, elif, and else to check multiple conditions and execute corresponding actions.\n",
        "\n",
        "\n",
        "\n"
      ],
      "metadata": {
        "id": "L-8fwNEIXRMp"
      }
    },
    {
      "cell_type": "markdown",
      "source": [
        "12.\t**How does the elif statement work?**\n",
        "\n",
        "->\n",
        "The elif statement in Python is used when we have more than one condition to check. it is also known as nothing but  \"else if,\" and it comes after an if statement. If the condition in the if is False, then Python will check the condition in the elif and try to validate it. If that is True, it will run the code inside the elif block. If no conditions are True, the code inside the else block will run.\n",
        "\n",
        "* First, Python checks the if condition. If it's True, it will run that code and ignore the elif and else.\n",
        "*If the if condition is False, Python checks the elif condition.\n",
        "*If the elif condition is True, it runs the code inside that block.\n",
        "*If there are no if or elif conditions that are True, Python will run the else block.\n",
        "\n"
      ],
      "metadata": {
        "id": "gjMyKpB1agDM"
      }
    },
    {
      "cell_type": "markdown",
      "source": [
        "13.  **What is the difference between for and while loops?**\n",
        "\n",
        "->\n",
        "The main difference between a for loop and a while loop in Python is how they repeat a block of code.\n",
        "* A for loop is used when you know how many times you want to repeat something. It works by going through a set of items, like a list or a range of numbers, and runs for a fixed number of times.\n",
        "\n",
        "* A while loop, on the other hand, is used when you don’t know how many times the loop should run. It keeps going as long as a certain condition is true. The loop will stop when the condition is no longer true.\n",
        "\n",
        "For example, a for loop will automatically repeat for a set number of times, like for i in range(5), which will repeat 5 times. A while loop will keep repeating as long as a condition is true, like while i < 5, where it will keep running until the condition changes.\n",
        "\n",
        "In short, use a for loop when you know how many times you want to repeat, and use a while loop when you want to repeat something until a condition is no longer true."
      ],
      "metadata": {
        "id": "i8OhXO_8cYrS"
      }
    },
    {
      "cell_type": "markdown",
      "source": [
        " 14 . **Describe a scenario where a while loop is more suitable than a for loop.**\n",
        "\n",
        " ->\n",
        " A while loop is better than a for loop when you don’t know how many times you need to repeat something, and you want the loop to continue until a certain condition is met.\n",
        "\n",
        "For example, imagine you’re making a game where the player has to guess a number, but you don’t know how many guesses it will take. You want the game to keep going until the player guesses the right number. This is a perfect situation to use a while loop.\n",
        "In this case, the game keeps asking for guesses until the player guesses the correct number. Since you don’t know how many guesses it will take, the while loop keeps going until the player guesses the right number. This is why a while loop is more suitable in this situation."
      ],
      "metadata": {
        "id": "iPaWwLcSdvoE"
      }
    },
    {
      "cell_type": "markdown",
      "source": [
        "# Python Practical Questions"
      ],
      "metadata": {
        "id": "zeY6A1jnegm4"
      }
    },
    {
      "cell_type": "markdown",
      "source": [
        "1. **Write a Python program to print \"Hello, World!\"**"
      ],
      "metadata": {
        "id": "eRQpCG-geqBQ"
      }
    },
    {
      "cell_type": "code",
      "source": [
        "\n",
        "print(\"Hello, World!\")"
      ],
      "metadata": {
        "id": "p95X2KLoewzH"
      },
      "execution_count": null,
      "outputs": []
    },
    {
      "cell_type": "markdown",
      "source": [
        "2. **Write a Python program that displays your name and age.**"
      ],
      "metadata": {
        "id": "pk0LSjaWfDdb"
      }
    },
    {
      "cell_type": "code",
      "source": [
        "print(\"Enter your name\")\n",
        "name = input()\n",
        "print(\"Enter your age\")\n",
        "age = int(input())\n",
        "print(f\"My name is {name} and my age is {age}\")\n"
      ],
      "metadata": {
        "id": "JEx3Jv_VfOEo"
      },
      "execution_count": null,
      "outputs": []
    },
    {
      "cell_type": "markdown",
      "source": [
        "# OR"
      ],
      "metadata": {
        "id": "IVCEvDSyhOn5"
      }
    },
    {
      "cell_type": "code",
      "source": [
        "name = \"Abhishek\"\n",
        "age = 20\n",
        "\n",
        "print(\"name:\", name)\n",
        "print(\"age:\", age)\n",
        "\n"
      ],
      "metadata": {
        "id": "UeeJ7px2hR74"
      },
      "execution_count": null,
      "outputs": []
    },
    {
      "cell_type": "markdown",
      "source": [
        "3.  **Write code to print all the pre-defined keywords in Python using the keyword library?**"
      ],
      "metadata": {
        "id": "Dy_e7dncjIgC"
      }
    },
    {
      "cell_type": "code",
      "source": [
        "import keyword\n",
        "\n",
        "#Here all the python keywords will show in list.\n",
        "print(\"Python Keywords:\", keyword.kwlist)"
      ],
      "metadata": {
        "id": "xIVHlpkkjVX5"
      },
      "execution_count": null,
      "outputs": []
    },
    {
      "cell_type": "markdown",
      "source": [
        "4.  **Write a program that checks if a given word is a Python keyword.**"
      ],
      "metadata": {
        "id": "MfJY1rdXjh2o"
      }
    },
    {
      "cell_type": "code",
      "source": [
        "import keyword\n",
        "\n",
        "#  for Takeing input from the user\n",
        "word = input(\"Enter a word: \")\n",
        "\n",
        "# Check if the word is a Python keyword\n",
        "if keyword.iskeyword(word):\n",
        "    print(f\"'{word}' is a Python keyword.\")\n",
        "else:\n",
        "    print(f\"'{word}' is not a Python keyword.\")\n",
        "\n"
      ],
      "metadata": {
        "id": "A10UzupDkWRD"
      },
      "execution_count": null,
      "outputs": []
    },
    {
      "cell_type": "markdown",
      "source": [
        "5. **Create a list and tuple in Python, and demonstrate how attempting to change an element works differently\n",
        "for each**"
      ],
      "metadata": {
        "id": "lUYRFU1emSwU"
      }
    },
    {
      "cell_type": "code",
      "source": [
        "\n",
        "my_list = [10, 20, 30, 40, 50]\n",
        "my_tuple = (23, 17, 22, 99 , 33)\n",
        "\n",
        "\n",
        "print(\"Original list:\", my_list)\n",
        "my_list[2] = 100\n",
        "print(\"List after modification:\", my_list)\n",
        "\n",
        "\n",
        "print(\"\\nOriginal tuple:\", my_tuple)\n",
        "try:\n",
        "    my_tuple[2] = 800  # This will raise an error\n",
        "except TypeError as e:\n",
        "    print(f\"Error when trying to modify tuple: {e}\")"
      ],
      "metadata": {
        "id": "MkQ6t9SUm8y3"
      },
      "execution_count": null,
      "outputs": []
    },
    {
      "cell_type": "markdown",
      "source": [
        "6.  **Write a function to demonstrate the behavior of mutable and immutable arguments**\n",
        "\n",
        "\n"
      ],
      "metadata": {
        "id": "u0RjJqwsnain"
      }
    },
    {
      "cell_type": "code",
      "source": [
        "def modify_args(mutable, immutable):\n",
        "    mutable.append(42)  # Modify the mutable argument (list)\n",
        "    immutable *= 2      # Modify the immutable argument (integer)\n",
        "\n",
        "    print(\"Modified mutable:\", mutable)\n",
        "    print(\"Modified immutable:\", immutable)\n",
        "\n",
        "\n",
        "# Test the function\n",
        "my_list = [7, 8, 9]\n",
        "my_number = 3\n",
        "\n",
        "print(\"Before function call:\")\n",
        "print(\"my_list:\", my_list)\n",
        "print(\"my_number:\", my_number)\n",
        "\n",
        "modify_args(my_list, my_number)\n",
        "\n",
        "print(\"\\nAfter function call:\")\n",
        "print(\"my_list:\", my_list)\n",
        "print(\"my_number:\", my_number)"
      ],
      "metadata": {
        "id": "EHXlBSh1pLpt"
      },
      "execution_count": null,
      "outputs": []
    },
    {
      "cell_type": "markdown",
      "source": [
        "7. **Write a function to demonstrate the behavior of mutable and immutable arguments**"
      ],
      "metadata": {
        "id": "g9C-ubn1pPD_"
      }
    },
    {
      "cell_type": "code",
      "source": [
        "def modify_args(mutable, immutable):\n",
        "    mutable.append(42)  # Modify the mutable argument (list)\n",
        "    immutable *= 2      # Modify the immutable argument (integer)\n",
        "\n",
        "    print(\"Modified mutable:\", mutable)\n",
        "    print(\"Modified immutable:\", immutable)\n",
        "\n",
        "\n",
        "# Test the function\n",
        "my_list = [7, 8, 9]\n",
        "my_number = 3\n",
        "\n",
        "print(\"Before function call:\")\n",
        "print(\"my_list:\", my_list)\n",
        "print(\"my_number:\", my_number)\n",
        "\n",
        "modify_args(my_list, my_number)\n",
        "\n",
        "print(\"\\nAfter function call:\")\n",
        "print(\"my_list:\", my_list)\n",
        "print(\"my_number:\", my_number)"
      ],
      "metadata": {
        "id": "_NUX1Z_xpbd8"
      },
      "execution_count": null,
      "outputs": []
    },
    {
      "cell_type": "markdown",
      "source": [
        "8.  **Write a program to demonstrate the use of logical operators.**"
      ],
      "metadata": {
        "id": "Il5eOs0epkDz"
      }
    },
    {
      "cell_type": "code",
      "source": [
        "x = int(input(\"Enter a number: \"))\n",
        "y = int(input(\"Enter another number: \"))\n",
        "\n",
        "# ' and ' logical operator\n",
        "if x > 10 and y < 5:\n",
        "    print(\"First number is greater than 10 and second number is less than 5.\")\n",
        "\n",
        "# 'or' logical operator\n",
        "if x < 20 or y > 0:\n",
        "    print(\"Either first number is less than 20 or second number is positive.\")\n",
        "\n",
        "#  'not' logical operator\n",
        "if not (x == 0):\n",
        "    print(\"The first number is not zero.\")"
      ],
      "metadata": {
        "id": "WeKTVlVvpqAl"
      },
      "execution_count": null,
      "outputs": []
    },
    {
      "cell_type": "markdown",
      "source": [
        "9. **Write a Python program to convert user input from string to integer, float, and boolean types**"
      ],
      "metadata": {
        "id": "3eOKcaFKqMuS"
      }
    },
    {
      "cell_type": "code",
      "source": [
        "user_input = input(\"Enter something: \")\n",
        "\n",
        "# Convert to integer\n",
        "integer_value = int(user_input)\n",
        "print(\"Integer:\", integer_value)\n",
        "\n",
        "# Convert to float\n",
        "float_value = float(user_input)\n",
        "print(\"Float:\", float_value)\n",
        "\n",
        "# Convert to boolean\n",
        "if user_input.lower() == \"true\":\n",
        "    boolean_value = True\n",
        "elif user_input.lower() == \"false\":\n",
        "    boolean_value = False\n",
        "else:\n",
        "    boolean_value = bool(user_input)\n",
        "print(\"Boolean:\", boolean_value)"
      ],
      "metadata": {
        "id": "NyWs_huGLE-n"
      },
      "execution_count": null,
      "outputs": []
    },
    {
      "cell_type": "markdown",
      "source": [
        "\n",
        "10. **Write code to demonstrate type casting with list elements.**"
      ],
      "metadata": {
        "id": "4Vecp4BfLLxH"
      }
    },
    {
      "cell_type": "code",
      "source": [
        "my_list = [5, 3.14, '42', False]\n",
        "\n",
        "# Convert elements to integers\n",
        "int_list = [int(item) for item in my_list]\n",
        "print(\"List with elements cast to int:\", int_list)\n",
        "\n",
        "# Convert elements to strings\n",
        "str_list = [str(item) for item in my_list]\n",
        "print(\"List with elements cast to str:\", str_list)\n",
        "\n",
        "# Convert elements to floats\n",
        "float_list = [float(item) for item in my_list]\n",
        "print(\"List with elements cast to float:\", float_list)\n",
        "\n",
        "# Convert elements to boolean\n",
        "bool_list = [bool(item) for item in my_list]\n",
        "print(\"List with elements cast to bool:\", bool_list)"
      ],
      "metadata": {
        "id": "lYwOJMK8EO5O"
      },
      "execution_count": null,
      "outputs": []
    },
    {
      "cell_type": "markdown",
      "source": [
        "11.  **Write a program that checks if a number is positive, negative, or zero**"
      ],
      "metadata": {
        "id": "d-awpda-FcCb"
      }
    },
    {
      "cell_type": "code",
      "source": [
        "number = float(input(\"Enter a number: \"))\n",
        "\n",
        "\n",
        "if number > 0:\n",
        "    print(\"The number is positive.\")\n",
        "elif number < 0:\n",
        "    print(\"The number is negative.\")\n",
        "else:\n",
        "    print(\"The number is zero.\")"
      ],
      "metadata": {
        "id": "-9--ix0mIkwA"
      },
      "execution_count": null,
      "outputs": []
    },
    {
      "cell_type": "markdown",
      "source": [
        "\n",
        "12. **Write a for loop to print numbers from 1 to 10**"
      ],
      "metadata": {
        "id": "1_-av9McIzd1"
      }
    },
    {
      "cell_type": "code",
      "source": [
        "for i in range(1, 11):\n",
        "    print(i)"
      ],
      "metadata": {
        "id": "s2xu2RTwJPOc"
      },
      "execution_count": null,
      "outputs": []
    },
    {
      "cell_type": "markdown",
      "source": [
        "13. **Write a Python program to find the sum of all even numbers between 1 and 50.**"
      ],
      "metadata": {
        "id": "oUND9yKKJeyS"
      }
    },
    {
      "cell_type": "code",
      "source": [
        "sum_even_numbers = 0\n",
        "\n",
        "for number in range(1, 51):\n",
        "    if number % 2 == 0:\n",
        "        sum_even_numbers += number\n",
        "\n",
        "\n",
        "print(\"The sum of all even numbers between 1 and 50 is:\", sum_even_numbers)"
      ],
      "metadata": {
        "id": "fw7drhMQJgdj"
      },
      "execution_count": null,
      "outputs": []
    },
    {
      "cell_type": "markdown",
      "source": [
        "14. **Write a program to reverse a string using a while loop**"
      ],
      "metadata": {
        "id": "THC3CbGGMcLj"
      }
    },
    {
      "cell_type": "code",
      "source": [
        "\n",
        "string = input(\"Enter a string: \")\n",
        "\n",
        "\n",
        "reversed_string = \"\"\n",
        "\n",
        "\n",
        "index = len(string) - 1\n",
        "\n",
        "\n",
        "while index >= 0:\n",
        "    reversed_string = reversed_string + string[index]\n",
        "    index -= 1\n",
        "\n",
        "\n",
        "print(\"Reversed string:\", reversed_string)"
      ],
      "metadata": {
        "id": "dE4igy1YM1sC"
      },
      "execution_count": null,
      "outputs": []
    },
    {
      "cell_type": "markdown",
      "source": [
        "15. **Write a Python program to calculate the factorial of a number provided by the user using a while loop.**"
      ],
      "metadata": {
        "id": "ykoR46OIM_Ae"
      }
    },
    {
      "cell_type": "code",
      "source": [
        "factorial = 1\n",
        "\n",
        "\n",
        "if number < 0:\n",
        "    print(\"Factorial is not defined for negative numbers.\")\n",
        "else:\n",
        "\n",
        "    while number > 0:\n",
        "        factorial *= number\n",
        "        number -= 1\n",
        "\n",
        "\n",
        "    print(\"The factorial is:\", factorial)"
      ],
      "metadata": {
        "id": "OAsbGy72NZdf"
      },
      "execution_count": null,
      "outputs": []
    }
  ]
}